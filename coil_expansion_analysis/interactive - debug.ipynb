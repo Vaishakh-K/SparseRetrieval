{
 "cells": [
  {
   "cell_type": "code",
   "execution_count": 1,
   "metadata": {},
   "outputs": [
    {
     "name": "stderr",
     "output_type": "stream",
     "text": [
      "2022-04-13 19:38:58.950629: W tensorflow/stream_executor/platform/default/dso_loader.cc:64] Could not load dynamic library 'libcudart.so.11.0'; dlerror: libcudart.so.11.0: cannot open shared object file: No such file or directory; LD_LIBRARY_PATH: /bos/usr0/adityasv/anaconda3/lib/\n",
      "2022-04-13 19:38:58.950664: I tensorflow/stream_executor/cuda/cudart_stub.cc:29] Ignore above cudart dlerror if you do not have a GPU set up on your machine.\n"
     ]
    },
    {
     "name": "stdout",
     "output_type": "stream",
     "text": [
      "done\n"
     ]
    }
   ],
   "source": [
    "import sys\n",
    "sys.path.append(\"/home/adityasv/COILv2/SparseRetrieval/COIL\")\n",
    "\n",
    "import json\n",
    "import torch\n",
    "import os\n",
    "from torch import nn\n",
    "from pprint import pprint\n",
    "from collections import defaultdict\n",
    "\n",
    "from tqdm.auto import tqdm\n",
    "from beir.datasets.data_loader import GenericDataLoader\n",
    "from transformers import PreTrainedModel\n",
    "from transformers import AutoModelForMaskedLM, AutoConfig, AutoTokenizer\n",
    "from transformers.modeling_outputs import  MaskedLMOutput\n",
    "from arguments import ModelArguments\n",
    "\n",
    "from torch import Tensor\n",
    "from typing import Dict, List, Tuple, Iterable\n",
    "from torch.cuda.amp import autocast\n",
    "\n",
    "from modeling import COILWithExpansion\n",
    "print('done')"
   ]
  },
  {
   "cell_type": "code",
   "execution_count": 2,
   "metadata": {},
   "outputs": [],
   "source": [
    "# %%\n",
    "model_path = \"/bos/tmp15/adityasv/COILv2-vkeshava/model_coil_with_expansion_splade_flops_q0.0008_d0.0006_expansion_weight1_tokens_weight1_expansion-norm_max_expansion_weight_not_learned_init_distilbert_base/\"\n",
    "\n",
    "data_args, model_args, train_args = torch.load(os.path.join(model_path, \"args.pt\"))\n",
    "\n",
    "config = AutoConfig.from_pretrained(\n",
    "        model_path,\n",
    "        num_labels=1,\n",
    "        cache_dir=model_args.cache_dir,\n",
    "    )\n",
    "\n",
    "model = COILWithExpansion.from_pretrained(model_args, data_args, train_args, model_path)\n",
    "tokenizer = AutoTokenizer.from_pretrained(model_path)\n",
    "\n",
    "id2tok = {v:k for k,v in tokenizer.vocab.items()}\n",
    "\n",
    "if torch.cuda.is_available():\n",
    "    model.to('cuda')\n",
    "    model.eval()\n",
    "\n"
   ]
  },
  {
   "cell_type": "code",
   "execution_count": 3,
   "metadata": {},
   "outputs": [
    {
     "data": {
      "application/vnd.jupyter.widget-view+json": {
       "model_id": "7daeb9bdc4784a60b577f79b7fe007ab",
       "version_major": 2,
       "version_minor": 0
      },
      "text/plain": [
       "HBox(children=(FloatProgress(value=0.0, max=8841823.0), HTML(value='')))"
      ]
     },
     "metadata": {},
     "output_type": "display_data"
    },
    {
     "name": "stdout",
     "output_type": "stream",
     "text": [
      "\n"
     ]
    }
   ],
   "source": [
    "data_path = \"/bos/tmp15/adityasv/DomainAdaptation/MSMARCO/msmarco\"\n",
    "corpus, queries, qrels = GenericDataLoader(data_folder=data_path).load(split=\"dev\")"
   ]
  },
  {
   "cell_type": "code",
   "execution_count": 4,
   "metadata": {},
   "outputs": [],
   "source": [
    "def expansion_activation(x, attention_mask):\n",
    "    if self.model_args.expansion_normalization == \"max\":\n",
    "        cloned_attention_mask = attention_mask.clone()\n",
    "        activation = torch.log(1 + torch.relu(x))\n",
    "        activation_masked = activation * cloned_attention_mask.unsqueeze(-1)\n",
    "        expansion_scores = torch.max(activation_masked, dim=1).values\n",
    "        return expansion_scores, activation_masked\n",
    "    \n",
    "def get_scores(query, doc):\n",
    "    doc = [doc.get(\"title\") + \" \" + doc.get(\"text\")]\n",
    "    query = [query]\n",
    "    doc = tokenizer(doc, return_tensors='pt')\n",
    "    query = tokenizer(query, return_tensors='pt')\n",
    "\n",
    "    if torch.cuda.is_available():\n",
    "        doc = {k: v.cuda() for k,v in doc.items()}\n",
    "        query = {k: v.cuda() for k,v in query.items()}\n",
    "\n",
    "    with torch.no_grad():\n",
    "        scores, tok_scores, expansion_scores, qry_expansion, doc_expansion, qry_expansion_indices, doc_expansion_indices = model(query, doc, return_activations=True)\n",
    "    qry_expansion_indices.squeeze_()\n",
    "    doc_expansion_indices.squeeze_()\n",
    "    \n",
    "    qry_expansion_reverse_map = defaultdict(list)\n",
    "    doc_expansion_reverse_map = defaultdict(list)\n",
    "    \n",
    "    qry_expansion = torch.nonzero(qry_expansion)[:,1].cpu().numpy().tolist()\n",
    "    doc_expansion = torch.nonzero(doc_expansion)[:,1].cpu().numpy().tolist()\n",
    "    \n",
    "    for i in qry_expansion:\n",
    "        j = qry_expansion_indices[i].item()\n",
    "        qry_expansion_reverse_map[id2tok[query['input_ids'][0][j].item()]].append(id2tok[i])\n",
    "    \n",
    "    for i in doc_expansion:\n",
    "        j = doc_expansion_indices[i].item()\n",
    "        doc_expansion_reverse_map[id2tok[doc['input_ids'][0][j].item()]].append(id2tok[i])\n",
    "\n",
    "    q_doc_intersection = set(id2tok[i] for i in qry_expansion).intersection(set(id2tok[i] for i in doc_expansion))\n",
    "        \n",
    "    return scores, tok_scores, expansion_scores, \"\\n\".join([id2tok[i] for i in qry_expansion]), \"\\n\".join([id2tok[i] for i in doc_expansion]) , qry_expansion_reverse_map, doc_expansion_reverse_map, q_doc_intersection\n"
   ]
  },
  {
   "cell_type": "code",
   "execution_count": 6,
   "metadata": {
    "scrolled": false
   },
   "outputs": [
    {
     "name": "stdout",
     "output_type": "stream",
     "text": [
      "is protonix an antacid\n",
      "{'text': 'BRAND NAME: Protonix. DRUG CLASS AND MECHANISM: Pantoprazole is in a class of drugs called proton pump inhibitors (PPIs), which block the production of acid by the stomach. Other drugs in the same class include lansoprazole (Prevacid), omeprazole (Prilosec) and rabeprazole (Aciphex). Proton pump inhibitors are used for the treatment of conditions such as ulcers, gastroesophageal reflux disease (GERD) and Zollinger-Ellison syndrome that are caused by stomach acid.', 'title': ''}\n",
      "\n",
      "['is', 'proton', '##ix', 'an', 'ant', '##ac', '##id']\n",
      "['brand', 'name', ':', 'proton', '##ix', '.', 'drug', 'class', 'and', 'mechanism', ':', 'pan', '##top', '##raz', '##ole', 'is', 'in', 'a', 'class', 'of', 'drugs', 'called', 'proton', 'pump', 'inhibitors', '(', 'pp', '##is', ')', ',', 'which', 'block', 'the', 'production', 'of', 'acid', 'by', 'the', 'stomach', '.', 'other', 'drugs', 'in', 'the', 'same', 'class', 'include', 'lan', '##sop', '##raz', '##ole', '(', 'pre', '##vac', '##id', ')', ',', 'om', '##ep', '##raz', '##ole', '(', 'pri', '##los', '##ec', ')', 'and', 'ra', '##be', '##pr', '##az', '##ole', '(', 'ac', '##ip', '##he', '##x', ')', '.', 'proton', 'pump', 'inhibitors', 'are', 'used', 'for', 'the', 'treatment', 'of', 'conditions', 'such', 'as', 'ul', '##cer', '##s', ',', 'gas', '##tro', '##es', '##op', '##ha', '##ge', '##al', 'ref', '##lux', 'disease', '(', 'ge', '##rd', ')', 'and', 'z', '##oll', '##inger', '-', 'ellison', 'syndrome', 'that', 'are', 'caused', 'by', 'stomach', 'acid', '.']\n",
      "**************************************************\n",
      "{'is', 'proton', '##ix', '##id'}\n",
      "**************************************************\n",
      "scores tensor([18.0748], device='cuda:0')\n",
      "tok_scores tensor([18.0748], device='cuda:0')\n",
      "expansion_scores tensor([0.], device='cuda:0')\n",
      "**************************************************\n",
      "set()\n",
      "**************************************************\n",
      "defaultdict(<class 'list'>, {'##id': ['symbol'], 'ant': ['ant']})\n",
      "**************************************************\n",
      "defaultdict(<class 'list'>,\n",
      "            {'##cer': ['cancer'],\n",
      "             '##is': ['##is'],\n",
      "             '##ix': ['##ix'],\n",
      "             '##ole': ['pill'],\n",
      "             '##raz': ['az'],\n",
      "             '.': ['word'],\n",
      "             '[CLS]': ['herb'],\n",
      "             'acid': ['acid', 'alcohol'],\n",
      "             'block': ['do',\n",
      "                       'control',\n",
      "                       'channel',\n",
      "                       'block',\n",
      "                       'prevent',\n",
      "                       'blocking',\n",
      "                       'inhibit'],\n",
      "             'brand': ['company', 'product', 'brand'],\n",
      "             'called': ['called', 'call'],\n",
      "             'caused': ['cause'],\n",
      "             'class': ['group', 'class', 'type', 'category'],\n",
      "             'disease': ['disease'],\n",
      "             'drug': ['medical', 'drug', 'pharmaceutical'],\n",
      "             'drugs': ['medicine',\n",
      "                       'chemical',\n",
      "                       'combination',\n",
      "                       'drugs',\n",
      "                       'compound',\n",
      "                       'medication',\n",
      "                       'hormone',\n",
      "                       'ingredient'],\n",
      "             'ge': ['ge'],\n",
      "             'in': ['part'],\n",
      "             'include': ['include'],\n",
      "             'inhibitors': ['a',\n",
      "                            'therapy',\n",
      "                            'enzyme',\n",
      "                            'antagonist',\n",
      "                            'inhibitor',\n",
      "                            'antibiotics',\n",
      "                            'inhibitors'],\n",
      "             'mechanism': ['device', 'formula', 'mechanism', 'manufacture'],\n",
      "             'name': ['name', 'trademark', 'abbreviation'],\n",
      "             'om': ['om'],\n",
      "             'other': ['other'],\n",
      "             'pan': ['pan', 'pot', 'para', 'nan'],\n",
      "             'pp': ['pp'],\n",
      "             'pri': ['pri'],\n",
      "             'production': ['production', 'release', 'ion', 'synthesis'],\n",
      "             'proton': ['proton'],\n",
      "             'pump': ['pump', 'pumping'],\n",
      "             'ra': ['ra'],\n",
      "             'same': ['same'],\n",
      "             'stomach': ['stomach', 'gut'],\n",
      "             'syndrome': ['syndrome'],\n",
      "             'treatment': ['treatment', 'treat', 'healing', 'cure'],\n",
      "             'used': ['used', 'good', 'use', 'help'],\n",
      "             'which': ['purpose']})\n",
      "**************************************************\n"
     ]
    }
   ],
   "source": [
    "# query='who needs dialysis'\n",
    "# doc = {\"text\": \"A dogma has haunted the study and treatment of female infertility for more than half a century. It states that a baby girl is born with an ever-diminishing number of egg cells which cannot be renewed or replenished during her life, and that when she runs out of these eggs an irreversible menopause begins.\", \"title\": \"\"}\n",
    "\n",
    "query = queries['421813']\n",
    "doc = corpus['2554945']\n",
    "\n",
    "tok_doc = doc.get(\"title\") + \" \" + doc.get(\"text\")\n",
    "tok_query = query\n",
    "\n",
    "tok_query = tokenizer.tokenize(tok_query)\n",
    "tok_doc = tokenizer.tokenize(tok_doc)\n",
    "\n",
    "print(query)\n",
    "print(doc)\n",
    "print()\n",
    "\n",
    "\n",
    "print(tok_query)\n",
    "print(tok_doc)\n",
    "print(\"*\"*50)\n",
    "print(set(tok_query).intersection(set(tok_doc)))\n",
    "print(\"*\"*50)\n",
    "\n",
    "scores, tok_scores, expansion_scores, qry_expansion, doc_expansion, qry_expansion_reverse_map, doc_expansion_reverse_map, q_doc_intersection  = get_scores(query, doc)\n",
    "\n",
    "print(\"scores\", scores)\n",
    "print(\"tok_scores\", tok_scores)\n",
    "print(\"expansion_scores\", expansion_scores)\n",
    "print(\"*\"*50)\n",
    "print(q_doc_intersection)\n",
    "print(\"*\"*50)\n",
    "pprint(qry_expansion_reverse_map)\n",
    "print(\"*\"*50)\n",
    "pprint(doc_expansion_reverse_map)\n",
    "print(\"*\"*50)\n"
   ]
  }
 ],
 "metadata": {
  "interpreter": {
   "hash": "a97fc0486c34d0c4570ec62a5fcd6f423d39eead4ba4b6ae1df71b6e181bac05"
  },
  "kernelspec": {
   "display_name": "Python 3 (ipykernel)",
   "language": "python",
   "name": "python3"
  },
  "language_info": {
   "codemirror_mode": {
    "name": "ipython",
    "version": 3
   },
   "file_extension": ".py",
   "mimetype": "text/x-python",
   "name": "python",
   "nbconvert_exporter": "python",
   "pygments_lexer": "ipython3",
   "version": "3.9.7"
  }
 },
 "nbformat": 4,
 "nbformat_minor": 2
}
