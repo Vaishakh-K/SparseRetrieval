{
 "cells": [
  {
   "cell_type": "code",
   "execution_count": 1,
   "id": "1db2e313",
   "metadata": {},
   "outputs": [
    {
     "name": "stdout",
     "output_type": "stream",
     "text": [
      "6980000 /bos/tmp15/adityasv/COILv2-vkeshava/model_coil_with_expansion_splade_flops_q0.0008_d0.0006_expansion_weight1_tokens_weight1_expansion-norm_max_expansion_weight_not_learned/rank.txt\r\n"
     ]
    }
   ],
   "source": [
    "! wc -l /bos/tmp15/adityasv/COILv2-vkeshava/model_coil_with_expansion_splade_flops_q0.0008_d0.0006_expansion_weight1_tokens_weight1_expansion-norm_max_expansion_weight_not_learned/rank.txt"
   ]
  },
  {
   "cell_type": "code",
   "execution_count": 2,
   "id": "5a129ba1",
   "metadata": {},
   "outputs": [
    {
     "name": "stdout",
     "output_type": "stream",
     "text": [
      "1048585\t7187160\t32.22602081298828\r\n",
      "1048585\t7187155\t31.955062866210938\r\n",
      "1048585\t7187158\t30.86893081665039\r\n",
      "1048585\t7187157\t29.8802547454834\r\n",
      "1048585\t7617404\t28.741893768310547\r\n",
      "1048585\t3856131\t27.02429962158203\r\n",
      "1048585\t7187163\t26.333473205566406\r\n",
      "1048585\t7187156\t25.125255584716797\r\n",
      "1048585\t7546327\t24.202661514282227\r\n",
      "1048585\t7617413\t23.50704002380371\r\n"
     ]
    }
   ],
   "source": [
    "! head /bos/tmp15/adityasv/COILv2-vkeshava/model_coil_with_expansion_splade_flops_q0.0008_d0.0006_expansion_weight1_tokens_weight1_expansion-norm_max_expansion_weight_not_learned/rank.txt"
   ]
  },
  {
   "cell_type": "code",
   "execution_count": 3,
   "id": "33d3de6c",
   "metadata": {},
   "outputs": [
    {
     "name": "stdout",
     "output_type": "stream",
     "text": [
      "lol\n"
     ]
    }
   ],
   "source": [
    "from collections import defaultdict\n",
    "from tqdm.auto import tqdm\n",
    "from beir.datasets.data_loader import GenericDataLoader\n",
    "import random\n",
    "print('lol')"
   ]
  },
  {
   "cell_type": "code",
   "execution_count": 4,
   "id": "df3bec26",
   "metadata": {},
   "outputs": [
    {
     "data": {
      "application/vnd.jupyter.widget-view+json": {
       "model_id": "79517cf81de54f628687cc21c129ab9c",
       "version_major": 2,
       "version_minor": 0
      },
      "text/plain": [
       "HBox(children=(FloatProgress(value=0.0, max=8841823.0), HTML(value='')))"
      ]
     },
     "metadata": {},
     "output_type": "display_data"
    },
    {
     "name": "stdout",
     "output_type": "stream",
     "text": [
      "\n"
     ]
    }
   ],
   "source": [
    "corpus, queries, qrels = GenericDataLoader(\"/bos/tmp15/adityasv/DomainAdaptation/MSMARCO/msmarco\").load(split=\"dev\")"
   ]
  },
  {
   "cell_type": "code",
   "execution_count": 5,
   "id": "746f8ea3",
   "metadata": {},
   "outputs": [],
   "source": [
    "qrels = defaultdict(set)\n",
    "with open('/bos/tmp15/adityasv/DomainAdaptation/MSMARCO/msmarco/qrels/dev.tsv', 'r') as fi:\n",
    "    fi.readline()\n",
    "    for line in fi:\n",
    "        qid, pid, label = line.strip().split('\\t')\n",
    "\n",
    "        label = int(label)\n",
    "        if label > 0:\n",
    "            qrels[qid].add(pid) "
   ]
  },
  {
   "cell_type": "code",
   "execution_count": 6,
   "id": "91eed8c1",
   "metadata": {},
   "outputs": [
    {
     "data": {
      "text/plain": [
       "6980"
      ]
     },
     "execution_count": 6,
     "metadata": {},
     "output_type": "execute_result"
    }
   ],
   "source": [
    "len(qrels)"
   ]
  },
  {
   "cell_type": "code",
   "execution_count": 17,
   "id": "60e74e62",
   "metadata": {},
   "outputs": [
    {
     "data": {
      "application/vnd.jupyter.widget-view+json": {
       "model_id": "1f62d5eab357480dbf3313fe52224d94",
       "version_major": 2,
       "version_minor": 0
      },
      "text/plain": [
       "HBox(children=(FloatProgress(value=1.0, bar_style='info', layout=Layout(width='20px'), max=1.0), HTML(value=''…"
      ]
     },
     "metadata": {},
     "output_type": "display_data"
    },
    {
     "name": "stdout",
     "output_type": "stream",
     "text": [
      "\n"
     ]
    },
    {
     "data": {
      "application/vnd.jupyter.widget-view+json": {
       "model_id": "b9d7fea47f1f4b10809857bbb13f1503",
       "version_major": 2,
       "version_minor": 0
      },
      "text/plain": [
       "HBox(children=(FloatProgress(value=1.0, bar_style='info', layout=Layout(width='20px'), max=1.0), HTML(value=''…"
      ]
     },
     "metadata": {},
     "output_type": "display_data"
    },
    {
     "name": "stdout",
     "output_type": "stream",
     "text": [
      "\n"
     ]
    },
    {
     "data": {
      "application/vnd.jupyter.widget-view+json": {
       "model_id": "0038a8330bd1429e9f4ac59f7b6620ad",
       "version_major": 2,
       "version_minor": 0
      },
      "text/plain": [
       "HBox(children=(FloatProgress(value=1.0, bar_style='info', layout=Layout(width='20px'), max=1.0), HTML(value=''…"
      ]
     },
     "metadata": {},
     "output_type": "display_data"
    },
    {
     "name": "stdout",
     "output_type": "stream",
     "text": [
      "\n"
     ]
    },
    {
     "data": {
      "application/vnd.jupyter.widget-view+json": {
       "model_id": "821bad8781824fe2a397b00d579859a8",
       "version_major": 2,
       "version_minor": 0
      },
      "text/plain": [
       "HBox(children=(FloatProgress(value=1.0, bar_style='info', layout=Layout(width='20px'), max=1.0), HTML(value=''…"
      ]
     },
     "metadata": {},
     "output_type": "display_data"
    },
    {
     "name": "stdout",
     "output_type": "stream",
     "text": [
      "\n"
     ]
    },
    {
     "data": {
      "application/vnd.jupyter.widget-view+json": {
       "model_id": "e54d24074c314305bb12771a6ecf008f",
       "version_major": 2,
       "version_minor": 0
      },
      "text/plain": [
       "HBox(children=(FloatProgress(value=1.0, bar_style='info', layout=Layout(width='20px'), max=1.0), HTML(value=''…"
      ]
     },
     "metadata": {},
     "output_type": "display_data"
    },
    {
     "name": "stdout",
     "output_type": "stream",
     "text": [
      "\n"
     ]
    }
   ],
   "source": [
    "new_coil_path = '/bos/tmp15/adityasv/COILv2-vkeshava/model_coil_with_expansion_splade_flops_q0.0008_d0.0006_expansion_weight1_tokens_weight1_expansion-norm_max_expansion_weight_not_learned_init_distilbert_base/rank.txt'\n",
    "splade_path = '/bos/tmp15/adityasv/COILv2-vkeshava/model_coil_with_expansion_splade_flops_q0.0008_d0.0006_expansion_weight1_tokens_weight0_expansion-norm_max_expansion_weight_not_learned/rank.txt'\n",
    "coil_path = '/bos/tmp15/adityasv/COILv2-vkeshava/model_coil_with_expansion_splade_flops_q0.0008_d0.0006_expansion_weight0_tokens_weight1_expansion-norm_max_expansion_weight_not_learned/rank.txt'\n",
    "unicoil_path = '/bos/tmp15/adityasv/COILv2-vkeshava/model_unicoil_with_expansion_splade_flops_q0.0008_d0.0006_expansion_weight1_tokens_weight1_expansion-norm_max_expansion_weight_not_learned_init_distilbert_base/rank.txt'\n",
    "ensemble_path = '/bos/tmp15/adityasv/COILv2-vkeshava/interpolation_splade_coil/interpolation-5-rank.txt'\n",
    "\n",
    "ensemble = defaultdict(dict)\n",
    "with open(ensemble_path, 'r') as fi:\n",
    "    for line in tqdm(fi):\n",
    "        qid, pid, score = line.strip().split('\\t')\n",
    "        score = float(score)\n",
    "        ensemble[qid][pid] = score\n",
    "\n",
    "unicoil = defaultdict(dict)\n",
    "with open(unicoil_path, 'r') as fi:\n",
    "    for line in tqdm(fi):\n",
    "        qid, pid, score = line.strip().split('\\t')\n",
    "        score = float(score)\n",
    "        unicoil[qid][pid] = score\n",
    "\n",
    "new_coil = defaultdict(dict)\n",
    "with open(new_coil_path, 'r') as fi:\n",
    "    for line in tqdm(fi):\n",
    "        qid, pid, score = line.strip().split('\\t')\n",
    "        score = float(score)\n",
    "        new_coil[qid][pid] = score\n",
    "\n",
    "coil = defaultdict(dict)\n",
    "with open(coil_path, 'r') as fi:\n",
    "    for line in tqdm(fi):\n",
    "        qid, pid, score = line.strip().split('\\t')\n",
    "        score = float(score)\n",
    "        coil[qid][pid] = score\n",
    "\n",
    "splade = defaultdict(dict)\n",
    "with open(splade_path, 'r') as fi:\n",
    "    for line in tqdm(fi):\n",
    "        qid, pid, score = line.strip().split('\\t')\n",
    "        score = float(score)\n",
    "        splade[qid][pid] = score"
   ]
  },
  {
   "cell_type": "code",
   "execution_count": 12,
   "id": "b87e3cc8",
   "metadata": {},
   "outputs": [],
   "source": [
    "# ranking intesection: compute jaccard\n",
    "def compute_jaccard_rankings(system1, system2, k_values=[1, 5, 10, 100, 1000]):\n",
    "    result = {}\n",
    "    for k in k_values:\n",
    "        intersection = 0\n",
    "        count = 0\n",
    "        for qid in system1.keys():            \n",
    "            system1_rank = sorted([(v,k) for k,v in system1[qid].items()], reverse=True)\n",
    "            system1_rank = set(i for _,i in system1_rank[:k])\n",
    "\n",
    "            system2_rank = sorted([(v,k) for k,v in system2[qid].items()], reverse=True)\n",
    "            system2_rank = set(i for _,i in system2_rank[:k])\n",
    "\n",
    "            assert len(system1_rank) == len(system2_rank)\n",
    "            intersection += len(system1_rank.intersection(system2_rank))\n",
    "            count += len(system2_rank)\n",
    "\n",
    "        jaccard = intersection/count\n",
    "        print(f\"k: {k}, jaccard = {jaccard}\")\n",
    "        result[k] = jaccard\n",
    "    \n",
    "    return result        "
   ]
  },
  {
   "cell_type": "code",
   "execution_count": 18,
   "id": "4916ca0a",
   "metadata": {},
   "outputs": [
    {
     "name": "stdout",
     "output_type": "stream",
     "text": [
      "splade, unicoil\n",
      "k: 1, jaccard = 0.46117478510028653\n",
      "k: 5, jaccard = 0.576647564469914\n",
      "k: 10, jaccard = 0.5972922636103152\n",
      "k: 100, jaccard = 0.5856045845272206\n",
      "k: 1000, jaccard = 0.5549299426934098\n",
      "**********\n",
      "coil, unicoil\n",
      "k: 1, jaccard = 0.4355300859598854\n",
      "k: 5, jaccard = 0.5508022922636103\n",
      "k: 10, jaccard = 0.575487106017192\n",
      "k: 100, jaccard = 0.5597650429799427\n",
      "k: 1000, jaccard = 0.5144631805157593\n",
      "**********\n",
      "coil, new_coil\n",
      "k: 1, jaccard = 0.45558739255014324\n",
      "k: 5, jaccard = 0.5751862464183382\n",
      "k: 10, jaccard = 0.5980372492836676\n",
      "k: 100, jaccard = 0.5841590257879656\n",
      "k: 1000, jaccard = 0.5419283667621777\n",
      "**********\n",
      "unicoil, new_coil\n",
      "k: 1, jaccard = 0.6832378223495702\n",
      "k: 5, jaccard = 0.770458452722063\n",
      "k: 10, jaccard = 0.7867765042979943\n",
      "k: 100, jaccard = 0.7874255014326648\n",
      "k: 1000, jaccard = 0.7697244985673353\n",
      "**********\n",
      "ensemble, new_coil\n",
      "k: 1, jaccard = 0.5286532951289399\n",
      "k: 5, jaccard = 0.6424355300859599\n",
      "k: 10, jaccard = 0.6648137535816618\n",
      "k: 100, jaccard = 0.6593094555873925\n",
      "k: 1000, jaccard = 0.5807448424068767\n",
      "**********\n",
      "ensemble, unicoil\n",
      "k: 1, jaccard = 0.5127507163323782\n",
      "k: 5, jaccard = 0.6254154727793696\n",
      "k: 10, jaccard = 0.6513037249283667\n",
      "k: 100, jaccard = 0.6450630372492837\n",
      "k: 1000, jaccard = 0.5692598853868195\n"
     ]
    }
   ],
   "source": [
    "print(\"splade, unicoil\")\n",
    "_ = compute_jaccard_rankings(splade, unicoil)\n",
    "print('*'*10)\n",
    "print(\"coil, unicoil\")\n",
    "_ = compute_jaccard_rankings(coil, unicoil)\n",
    "print('*'*10)\n",
    "print(\"coil, new_coil\")\n",
    "_ = compute_jaccard_rankings(coil, new_coil)\n",
    "print('*'*10)\n",
    "print(\"unicoil, new_coil\")\n",
    "_ = compute_jaccard_rankings(unicoil, new_coil)\n",
    "print('*'*10)\n",
    "print(\"ensemble, new_coil\")\n",
    "_ = compute_jaccard_rankings(ensemble, new_coil)\n",
    "print('*'*10)\n",
    "print(\"ensemble, unicoil\")\n",
    "_ = compute_jaccard_rankings(ensemble, unicoil)"
   ]
  },
  {
   "cell_type": "code",
   "execution_count": 8,
   "id": "a4bbd8ff",
   "metadata": {},
   "outputs": [],
   "source": [
    "splade_wins = set()\n",
    "splade_losses = set()\n",
    "for qid in splade.keys():\n",
    "    for pid in qrels[qid]:\n",
    "        if pid in splade[qid]:\n",
    "            splade_wins.add((qid, pid))\n",
    "        else:\n",
    "            splade_losses.add((qid, pid))\n",
    "\n",
    "            \n",
    "coil_wins = set()\n",
    "coil_losses = set()\n",
    "for qid in coil.keys():\n",
    "    for pid in qrels[qid]:\n",
    "        if pid in coil[qid]:\n",
    "            coil_wins.add((qid, pid))\n",
    "        else:\n",
    "            coil_losses.add((qid, pid))\n",
    "\n",
    "new_coil_wins = set()\n",
    "new_coil_losses = set()\n",
    "for qid in new_coil.keys():\n",
    "    for pid in qrels[qid]:\n",
    "        if pid in new_coil[qid]:\n",
    "            new_coil_wins.add((qid, pid))\n",
    "        else:\n",
    "            new_coil_losses.add((qid, pid))"
   ]
  },
  {
   "cell_type": "code",
   "execution_count": 10,
   "id": "9d2a0147",
   "metadata": {},
   "outputs": [
    {
     "data": {
      "text/plain": [
       "(7098, 339, 6980, 457, 7146, 291)"
      ]
     },
     "execution_count": 10,
     "metadata": {},
     "output_type": "execute_result"
    }
   ],
   "source": [
    "len(splade_wins), len(splade_losses), len(coil_wins), len(coil_losses), len(new_coil_wins), len(new_coil_losses)"
   ]
  },
  {
   "cell_type": "code",
   "execution_count": 27,
   "id": "fc44b61c",
   "metadata": {},
   "outputs": [],
   "source": [
    "splade_better = splade_wins.intersection(new_coil_losses)\n",
    "splade_worse = splade_losses.intersection(new_coil_wins)\n",
    "\n",
    "coil_better = coil_wins.intersection(new_coil_losses)\n",
    "coil_worse = coil_losses.intersection(new_coil_wins)\n",
    "\n",
    "splade_over_coil = splade_wins.intersection(coil_losses)\n",
    "coil_over_splade = coil_wins.intersection(splade_losses)"
   ]
  },
  {
   "cell_type": "code",
   "execution_count": 24,
   "id": "98a60a83",
   "metadata": {},
   "outputs": [
    {
     "data": {
      "text/plain": [
       "(86, 134, 45, 211)"
      ]
     },
     "execution_count": 24,
     "metadata": {},
     "output_type": "execute_result"
    }
   ],
   "source": [
    "len(splade_better), len(splade_worse), len(coil_better), len(coil_worse)"
   ]
  },
  {
   "cell_type": "code",
   "execution_count": 28,
   "id": "0c52b4aa",
   "metadata": {},
   "outputs": [
    {
     "name": "stdout",
     "output_type": "stream",
     "text": [
      "657091 7661636\n",
      "**************************************************\n",
      "what else can marijuana be used for\n",
      "**************************************************\n",
      "{'text': 'Cannabis can be used by smoking, vaporization, within food, or as an extract. Cannabis is often used for its mental and physical effects, such as a high or stoned feeling, a general change in perception, euphoria (heightened mood), and an increase in appetite.', 'title': ''}\n",
      "@@@@@@@@@@@@@@@@@@@@@@@@@@@@@@@@@@@@@@@@@@@@@@@@@@\n",
      "27.26 34.29 341674 7661636\n",
      "{'text': 'Marijuana is used as a psychoactive (i.e. mind altering) recreational drug, for certain medical ailments and for religious and spiritual purposes. Sinsemilla, hash/hashish (resinous form) and hash oil (sticky black liquid) are stronger forms of marijuana.', 'title': ''}\n",
      "{'text': 'Cannabis can be used by smoking, vaporization, within food, or as an extract. Cannabis is often used for its mental and physical effects, such as a high or stoned feeling, a general change in perception, euphoria (heightened mood), and an increase in appetite.', 'title': ''}\n",
      "##################################################\n",
      "27.14 34.20 4357940 4105692\n",
      "{'text': 'Marijuana has currently been legalized for medicinal purposes in 23 U.S. states where it is used to treat a bevy of conditions, including epilepsy, multiple sclerosis, AIDS, and certain types of cancer.', 'title': ''}\n",
      "{'text': 'Medical cannabis (or medical marijuana) refers to the use of cannabis and its constituent cannabinoids, to treat disease or improve symptoms. Cannabis is used to reduce nausea and vomiting during chemotherapy, to improve appetite in people with HIV/AIDS, and to treat chronic pain and muscle spasms.', 'title': ''}\n",
      "##################################################\n",
      "26.94 33.13 4105692 4452203\n",
      "{'text': 'Medical cannabis (or medical marijuana) refers to the use of cannabis and its constituent cannabinoids, to treat disease or improve symptoms. Cannabis is used to reduce nausea and vomiting during chemotherapy, to improve appetite in people with HIV/AIDS, and to treat chronic pain and muscle spasms.', 'title': ''}\n",
      "{'text': 'Hemp is refined into products such as hemp seed foods, hemp oil, wax, resin, rope, cloth, pulp, paper, and fuel. Other variants of the herb Cannabis are widely used as a drug, commonly known as marijuana.n Japan, hemp was historically used as paper and a fiber crop. There is archaeological evidence cannabis was used for clothing and the seeds were eaten in Japan back to the JÅ\\x8dmon period (10,000 to 300 BCE).', 'title': ''}\n",
      "##################################################\n",
      "26.88 32.59 476767 2188276\n",
      "{'text': 'Marijuana is most commonly smoked, but it can be used in vaporizers, turned into a tea, or used as an ingredient in foods as an edible. Oils and tinctures are often made from the cannabis plant as well for medicinal purposes. Of the many ways to use marijuana, smoking seems to have the most harmful side effects.', 'title': ''}\n",
      "{'text': 'Hemp is refined into products such as hemp seed foods, hemp oil, wax, resin, rope, cloth, pulp, paper, and fuel. Other variants of the herb Cannabis are widely used as a drug, commonly known as marijuana.tems ranging from rope, to fabrics, to industrial materials were made from hemp fiber. Hemp was often used to make sail canvas, and the word canvas derives from cannabis. Today, a modest hemp fabric industry exists, and hemp fibers can be used in clothing. Pure hemp has a texture similar to linen.', 'title': ''}\n",
      "##################################################\n",
      "26.78 32.58 392431 6118819\n",
      "{'text': 'Marijuana as Medicine Many people believe that marijuana can be used as medicine to treat certain illnesses. Canada and several states in the U.S. have passed laws in recent years to specifically allow sick people to use marijuana for medicinal purposes.arijuana as Medicine Many people believe that marijuana can be used as medicine to treat certain illnesses. Canada and several states in the U.S. have passed laws in recent years to specifically allow sick people to use marijuana for medicinal purposes.', 'title': ''}\n",
      "{'text': 'There is limited evidence suggesting cannabis can be used to reduce nausea and vomiting during chemotherapy, to improve appetite in people with HIV/AIDS, and to treat chronic pain and muscle spasms. Its use for other medical applications, however, is insufficient for conclusions about safety or efficacy.', 'title': ''}\n",
      "##################################################\n",
      "26.76 32.42 3220276 1907156\n",
      "{'text': 'There are plenty of other reasons why marijuana should be legal. 1  Medicinal use: Marijuana can be used as medicine because it helps to stimulate apetite and relieve nausea in cancer and AIDS patients.  Hemp: The hemp plant is a valuable natural resource.', 'title': ''}\n",
      "{'text': 'Cannabidiol (CBD) is a highly regarded element in medical marijuana. Not only does it inhibit the production of cancer cells in the body, but it relieves a wide range of symptoms. It can be used to treat nausea, vomiting, convulsion, inflammation, cough and congestion.', 'title': ''}\n",
      "##################################################\n",
      "26.70 32.41 580361 4602644\n",
      "{'text': 'Cannabis has been used for hundreds of years by humans, for fiber (hemp), seed oils, seed, medical treatment and recreationally. Marijuana is derived from the Cannabis sativa plant and is sometimes used to treat chronic pain. The hemp plant contains the psychoactive chemical tetrahydrocannabinol (THC). THC acts on specific brain cell receptors called cannabinoids. Immediately after smoking marijuana, THC can be detected in the blood.', 'title': ''}\n",
      "{'text': 'Medical Marijuana May Be A Cure For Migraines, And Many Other Conditions. Medical marijuana may be an effective treatment for headaches and migraines, a new study finds. For the first time, researchers have completed a study that proves medical marijuana can treat migraines. A study like this has never been done before due to federal regulations preventing scientists in the U.S. from obtaining cannabis for research.', 'title': ''}\n",
      "##################################################\n",
      "26.59 32.17 6753004 8459801\n",
      "{'text': 'Cannabis has been used for hundreds of years by humans, for fiber (hemp), seed oils, seed, medical treatment and recreationally. Marijuana is derived from the Cannabis sativa plant and is sometimes used to treat chronic pain. The hemp plant contains the psychoactive chemical delta-9-tetrahydro-cannabinol (THC).', 'title': ''}\n",
      "{'text': 'Cannabis is used to reduce nausea and vomiting during chemotherapy, to improve appetite in people with HIV/AIDS, to treat chronic pain, and help with muscle spasms. Its use for other medical applications is insufficient for conclusions about safety or efficacy.o far, the medical use of cannabis is legal only in a limited number of territories, including Canada, Belgium, Australia, the Netherlands, Spain, and several U.S. states. This usage generally requires a prescription, and distribution is usually done within a framework defined by local laws.', 'title': ''}\n",
      "##################################################\n",
      "26.58 32.10 808023 341674\n",
      "{'text': '1 Marijuana can be used as a tool for pain management. 2  Medicinal marijuana may relieve symptoms of anxiety.  Itâ\\x80\\x99s also recognized as a potential treatment for nausea and vomiting related to chemotherapy.', 'title': ''}\n",
      "{'text': 'Marijuana is used as a psychoactive (i.e. mind altering) recreational drug, for certain medical ailments and for religious and spiritual purposes. Sinsemilla, hash/hashish (resinous form) and hash oil (sticky black liquid) are stronger forms of marijuana.', 'title': ''}\n",
      "##################################################\n",
      "26.53 31.67 484214 7463177\n",
      "{'text': 'Marijuana is a popular drug which is mainly used for recreational purposes although there are people who use it for medical reasons, e.g. to relieve the symptoms of multiple sclerosis. Marijuana is considered to be a mixture of the following three states: Stimulant.', 'title': ''}\n",
      "{'text': 'Weed reduces some of the awful pain and nausea from chemo, and stimulates appetite. Harrison Jacobs/Business Insider. One of the most well-known medical uses of marijuana is for people going through chemotherapy. Cancer patients being treated with chemo suffer from painful nausea, vomiting, and loss of appetite. This can cause additional health complications. Marijuana can help reduce these side effects, alleviating pain, decreasing nausea, and stimulating the appetite.', 'title': ''}\n",
      "##################################################\n",
      "**************************************************\n"
     ]
    },
    {
     "name": "stderr",
     "output_type": "stream",
     "text": [
      "/tmp/ipykernel_59203/2770149936.py:1: DeprecationWarning: Sampling from a set deprecated\n",
      "since Python 3.9 and will be removed in a subsequent version.\n",
      "  qid, pid = random.sample(splade_over_coil, k=1)[0]\n"
     ]
    }
   ],
   "source": [
    "qid, pid = random.sample(splade_over_coil, k=1)[0]\n",
    "\n",
    "print(qid, pid)\n",
    "print(\"*\"*50)\n",
    "print(queries[qid])\n",
    "print(\"*\"*50)\n",
    "print(corpus[pid])\n",
    "print(\"@\"*50)\n",
    "for i,j in zip(sorted(new_coil[qid].items(), key=lambda x: x[1], reverse=True)[:10], sorted(splade[qid].items(), key=lambda x: x[1], reverse=True)[:10]):\n",
    "    print(\"{:.2f}\".format(i[1]), \"{:.2f}\".format(j[1]), i[0], j[0])\n",
    "    print(corpus[i[0]])\n",
    "    print(corpus[j[0]])\n",
    "    \n",
    "    print(\"#\"*50)\n",
    "print(\"*\"*50)"
   ]
  }
 ],
 "metadata": {
  "kernelspec": {
   "display_name": "Python 3 (ipykernel)",
   "language": "python",
   "name": "python3"
  },
  "language_info": {
   "codemirror_mode": {
    "name": "ipython",
    "version": 3
   },
   "file_extension": ".py",
   "mimetype": "text/x-python",
   "name": "python",
   "nbconvert_exporter": "python",
   "pygments_lexer": "ipython3",
   "version": "3.9.7"
  }
 },
 "nbformat": 4,
 "nbformat_minor": 5
}
